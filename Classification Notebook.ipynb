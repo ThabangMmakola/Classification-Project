{
 "cells": [
  {
   "cell_type": "markdown",
   "id": "aecd44d4-b3f6-4842-9ffc-ca0dde1904f0",
   "metadata": {},
   "source": [
    "# News Classification Project\n",
    "# Author: Thabang Mmakola"
   ]
  },
  {
   "cell_type": "markdown",
   "id": "304ff2cb-4d4e-4baa-8610-4034967ec91a",
   "metadata": {},
   "source": [
    "*Packages*"
   ]
  },
  {
   "cell_type": "code",
   "execution_count": 129,
   "id": "93748523-b4e9-4f4e-94b4-1dc35f348bfa",
   "metadata": {},
   "outputs": [],
   "source": [
    "# Import packages\n",
    "import pandas as pd\n",
    "import numpy as np\n",
    "from sklearn.model_selection import train_test_split, GridSearchCV\n",
    "from sklearn.feature_extraction.text import TfidfVectorizer\n",
    "from sklearn.linear_model import LogisticRegression\n",
    "from sklearn.naive_bayes import MultinomialNB\n",
    "from sklearn.ensemble import RandomForestClassifier\n",
    "from sklearn.svm import LinearSVC\n",
    "from sklearn.metrics import accuracy_score, classification_report, confusion_matrix\n",
    "import joblib"
   ]
  },
  {
   "cell_type": "markdown",
   "id": "495e322b-8f2e-4823-b577-60fd7bf6de6c",
   "metadata": {},
   "source": [
    "*Loading the dataset*"
   ]
  },
  {
   "cell_type": "code",
   "execution_count": 131,
   "id": "86bb6bc8-4816-4fd4-86e7-44c059b0be03",
   "metadata": {},
   "outputs": [
    {
     "name": "stdout",
     "output_type": "stream",
     "text": [
      "Train shape: (5520, 5)\n",
      "Test shape: (2000, 5)\n",
      "                                           headlines  \\\n",
      "0  RBI revises definition of politically-exposed ...   \n",
      "1  NDTV Q2 net profit falls 57.4% to Rs 5.55 cror...   \n",
      "2  Akasa Air ‘well capitalised’, can grow much fa...   \n",
      "3  India’s current account deficit declines sharp...   \n",
      "4  States borrowing cost soars to 7.68%, highest ...   \n",
      "\n",
      "                                         description  \\\n",
      "0  The central bank has also asked chairpersons a...   \n",
      "1  NDTV's consolidated revenue from operations wa...   \n",
      "2  The initial share sale will be open for public...   \n",
      "3  The current account deficit (CAD) was 3.8 per ...   \n",
      "4  The prices shot up reflecting the overall high...   \n",
      "\n",
      "                                             content  \\\n",
      "0  The Reserve Bank of India (RBI) has changed th...   \n",
      "1  Broadcaster New Delhi Television Ltd on Monday...   \n",
      "2  Homegrown server maker Netweb Technologies Ind...   \n",
      "3  India’s current account deficit declined sharp...   \n",
      "4  States have been forced to pay through their n...   \n",
      "\n",
      "                                                 url  category  \n",
      "0  https://indianexpress.com/article/business/ban...  business  \n",
      "1  https://indianexpress.com/article/business/com...  business  \n",
      "2  https://indianexpress.com/article/business/mar...  business  \n",
      "3  https://indianexpress.com/article/business/eco...  business  \n",
      "4  https://indianexpress.com/article/business/eco...  business  \n"
     ]
    }
   ],
   "source": [
    "# Load datasets\n",
    "train_df = pd.read_csv('train.csv')\n",
    "test_df = pd.read_csv('test.csv')\n",
    "\n",
    "print(\"Train shape:\", train_df.shape)\n",
    "print(\"Test shape:\", test_df.shape)\n",
    "print(train_df.head())"
   ]
  },
  {
   "cell_type": "code",
   "execution_count": 132,
   "id": "60326f57-ac65-4184-84ca-bdcb698b8c64",
   "metadata": {},
   "outputs": [],
   "source": [
    "# Cleaning function\n",
    "def clean_text(text):\n",
    "    if pd.isnull(text):\n",
    "        return \"\"\n",
    "    \n",
    "    # Lowercase\n",
    "    text = text.lower()\n",
    "    \n",
    "    # Remove URLs and keep only domain (e.g., bbc.com)\n",
    "    text = re.sub(r'http\\S+', '', text)\n",
    "    \n",
    "    # Remove emails\n",
    "    text = re.sub(r'\\S+@\\S+', '', text)\n",
    "    \n",
    "    # Remove website mentions (like “www.cnn.com”)\n",
    "    text = re.sub(r'www\\.\\S+', '', text)\n",
    "    \n",
    "    # Remove numbers and punctuation\n",
    "    text = re.sub(r'[^a-z\\s]', '', text)\n",
    "    \n",
    "    # Remove extra spaces\n",
    "    text = re.sub(r'\\s+', ' ', text).strip()\n",
    "    \n",
    "    return text"
   ]
  },
  {
   "cell_type": "code",
   "execution_count": 133,
   "id": "1e10d359-be35-416d-828c-30ff602ba17f",
   "metadata": {},
   "outputs": [],
   "source": [
    "# Apply cleaning\n",
    "for col in ['Headlines', 'Description', 'Content']:\n",
    "    if col in train_df.columns:\n",
    "        train_df[col] = train_df[col].astype(str).apply(clean_text)\n",
    "    if col in test_df.columns:\n",
    "        test_df[col] = test_df[col].astype(str).apply(clean_text)"
   ]
  },
  {
   "cell_type": "code",
   "execution_count": 134,
   "id": "dd911819-ee4f-4e01-bc94-9d5280122d19",
   "metadata": {},
   "outputs": [],
   "source": [
    "# Combine text columns into one for better representation\n",
    "train_df['text'] = train_df['headlines'] + ' ' + train_df['description'] + ' ' + train_df['content']\n",
    "test_df['text'] = test_df['headlines'] + ' ' + test_df['description'] + ' ' + test_df['content']\n",
    "\n",
    "X = train_df['text']\n",
    "y = train_df['category']"
   ]
  },
  {
   "cell_type": "code",
   "execution_count": 146,
   "id": "1675c0f9-4ed9-47eb-9989-138a7aa5f994",
   "metadata": {},
   "outputs": [],
   "source": [
    "# Train/validation split\n",
    "X = train_df[\"content\"]\n",
    "y = train_df[\"category\"]\n",
    "X_train, X_test, y_train, y_test = train_test_split(\n",
    "    X, y, test_size=0.2, random_state=42, stratify=y\n",
    ")"
   ]
  },
  {
   "cell_type": "code",
   "execution_count": 164,
   "id": "a27d23f6-48e4-43b6-83dc-c4b3f08e6b37",
   "metadata": {},
   "outputs": [],
   "source": [
    "# TF-IDF vectors\n",
    "vectorizer = TfidfVectorizer(max_features=5000, stop_words='english')\n",
    "X_train_tfidf = vectorizer.fit_transform(X_train)\n",
    "\n",
    "# Use the SAME vectorizer for val & test\n",
    "X_val_tfidf = vectorizer.transform(X_val)\n",
    "X_test_tfidf = vectorizer.transform(X_test)"
   ]
  },
  {
   "cell_type": "code",
   "execution_count": 166,
   "id": "2300bd90-f917-431e-947e-669d8dd5c725",
   "metadata": {},
   "outputs": [],
   "source": [
    "# Define models\n",
    "models = {\n",
    "    \"Logistic Regression\": LogisticRegression(max_iter=200),\n",
    "    \"Naive Bayes\": MultinomialNB(),\n",
    "    \"Random Forest\": RandomForestClassifier(n_estimators=100, random_state=42),\n",
    "    \"SVM\": LinearSVC()\n",
    "}\n"
   ]
  },
  {
   "cell_type": "code",
   "execution_count": 168,
   "id": "117e7ceb-b037-4aa8-8156-c7fd39a99bd1",
   "metadata": {},
   "outputs": [],
   "source": [
    "# Models and parameter grids\n",
    "param_grids = {\n",
    "    \"Logistic Regression\": {\n",
    "        \"model\": LogisticRegression(max_iter=300),\n",
    "        \"params\": {\n",
    "            \"C\": [0.1, 1, 10],\n",
    "            \"solver\": [\"liblinear\", \"saga\"]\n",
    "        }\n",
    "    },\n",
    "    \"Naive Bayes\": {\n",
    "        \"model\": MultinomialNB(),\n",
    "        \"params\": {\n",
    "            \"alpha\": [0.1, 0.5, 1.0]\n",
    "        }\n",
    "    },\n",
    "    \"Random Forest\": {\n",
    "        \"model\": RandomForestClassifier(random_state=42),\n",
    "        \"params\": {\n",
    "            \"n_estimators\": [100, 200],\n",
    "            \"max_depth\": [None, 10, 20],\n",
    "            \"min_samples_split\": [2, 5]\n",
    "        }\n",
    "    },\n",
    "    \"SVM\": {\n",
    "        \"model\": LinearSVC(),\n",
    "        \"params\": {\n",
    "            \"C\": [0.1, 1, 10]\n",
    "        }\n",
    "    }\n",
    "}"
   ]
  },
  {
   "cell_type": "code",
   "execution_count": 170,
   "id": "471fff20-6180-49fd-8905-5dfcfb22ba56",
   "metadata": {},
   "outputs": [
    {
     "name": "stdout",
     "output_type": "stream",
     "text": [
      "\n",
      "Training Logistic Regression...\n",
      "Logistic Regression Accuracy: 0.9918\n",
      "               precision    recall  f1-score   support\n",
      "\n",
      "     business       0.98      0.99      0.99       245\n",
      "    education       1.00      0.99      1.00       274\n",
      "entertainment       1.00      1.00      1.00       178\n",
      "       sports       0.99      0.99      0.99       137\n",
      "   technology       0.99      0.99      0.99       270\n",
      "\n",
      "     accuracy                           0.99      1104\n",
      "    macro avg       0.99      0.99      0.99      1104\n",
      " weighted avg       0.99      0.99      0.99      1104\n",
      "\n",
      "\n",
      "Training Naive Bayes...\n",
      "Naive Bayes Accuracy: 0.9864\n",
      "               precision    recall  f1-score   support\n",
      "\n",
      "     business       0.99      0.97      0.98       245\n",
      "    education       0.99      1.00      0.99       274\n",
      "entertainment       0.98      1.00      0.99       178\n",
      "       sports       0.99      0.99      0.99       137\n",
      "   technology       0.98      0.98      0.98       270\n",
      "\n",
      "     accuracy                           0.99      1104\n",
      "    macro avg       0.99      0.99      0.99      1104\n",
      " weighted avg       0.99      0.99      0.99      1104\n",
      "\n",
      "\n",
      "Training Random Forest...\n",
      "Random Forest Accuracy: 0.9937\n",
      "               precision    recall  f1-score   support\n",
      "\n",
      "     business       1.00      1.00      1.00       245\n",
      "    education       1.00      1.00      1.00       274\n",
      "entertainment       1.00      0.98      0.99       178\n",
      "       sports       1.00      0.99      0.99       137\n",
      "   technology       0.98      1.00      0.99       270\n",
      "\n",
      "     accuracy                           0.99      1104\n",
      "    macro avg       0.99      0.99      0.99      1104\n",
      " weighted avg       0.99      0.99      0.99      1104\n",
      "\n",
      "\n",
      "Training SVM...\n",
      "SVM Accuracy: 0.9982\n",
      "               precision    recall  f1-score   support\n",
      "\n",
      "     business       1.00      1.00      1.00       245\n",
      "    education       1.00      1.00      1.00       274\n",
      "entertainment       1.00      1.00      1.00       178\n",
      "       sports       1.00      1.00      1.00       137\n",
      "   technology       1.00      1.00      1.00       270\n",
      "\n",
      "     accuracy                           1.00      1104\n",
      "    macro avg       1.00      1.00      1.00      1104\n",
      " weighted avg       1.00      1.00      1.00      1104\n",
      "\n"
     ]
    }
   ],
   "source": [
    "#  Train & evaluate\n",
    "results = {}\n",
    "\n",
    "for name, model in models.items():\n",
    "    print(f\"\\nTraining {name}...\")\n",
    "    model.fit(X_train_tfidf, y_train)\n",
    "    preds = model.predict(X_val_tfidf)\n",
    "    acc = accuracy_score(y_val, preds)\n",
    "    print(f\"{name} Accuracy: {acc:.4f}\")\n",
    "    results[name] = acc\n",
    "    print(classification_report(y_val, preds))"
   ]
  },
  {
   "cell_type": "code",
   "execution_count": 172,
   "id": "f0634275-6500-4b25-911d-48312454d49d",
   "metadata": {},
   "outputs": [
    {
     "name": "stdout",
     "output_type": "stream",
     "text": [
      "\n",
      "🔍 Tuning Logistic Regression...\n",
      "✅ Best Params for Logistic Regression: {'C': 10, 'solver': 'saga'}\n",
      "✅ Validation Accuracy: 0.9982\n",
      "               precision    recall  f1-score   support\n",
      "\n",
      "     business       1.00      1.00      1.00       245\n",
      "    education       1.00      1.00      1.00       274\n",
      "entertainment       1.00      1.00      1.00       178\n",
      "       sports       1.00      1.00      1.00       137\n",
      "   technology       1.00      1.00      1.00       270\n",
      "\n",
      "     accuracy                           1.00      1104\n",
      "    macro avg       1.00      1.00      1.00      1104\n",
      " weighted avg       1.00      1.00      1.00      1104\n",
      "\n",
      "\n",
      "🔍 Tuning Naive Bayes...\n",
      "✅ Best Params for Naive Bayes: {'alpha': 0.1}\n",
      "✅ Validation Accuracy: 0.9900\n",
      "               precision    recall  f1-score   support\n",
      "\n",
      "     business       0.99      0.98      0.98       245\n",
      "    education       1.00      1.00      1.00       274\n",
      "entertainment       0.99      1.00      0.99       178\n",
      "       sports       0.99      1.00      0.99       137\n",
      "   technology       0.99      0.98      0.98       270\n",
      "\n",
      "     accuracy                           0.99      1104\n",
      "    macro avg       0.99      0.99      0.99      1104\n",
      " weighted avg       0.99      0.99      0.99      1104\n",
      "\n",
      "\n",
      "🔍 Tuning Random Forest...\n",
      "✅ Best Params for Random Forest: {'max_depth': None, 'min_samples_split': 5, 'n_estimators': 200}\n",
      "✅ Validation Accuracy: 0.9946\n",
      "               precision    recall  f1-score   support\n",
      "\n",
      "     business       1.00      1.00      1.00       245\n",
      "    education       1.00      1.00      1.00       274\n",
      "entertainment       1.00      0.98      0.99       178\n",
      "       sports       1.00      0.99      0.99       137\n",
      "   technology       0.98      1.00      0.99       270\n",
      "\n",
      "     accuracy                           0.99      1104\n",
      "    macro avg       1.00      0.99      0.99      1104\n",
      " weighted avg       0.99      0.99      0.99      1104\n",
      "\n",
      "\n",
      "🔍 Tuning SVM...\n",
      "✅ Best Params for SVM: {'C': 1}\n",
      "✅ Validation Accuracy: 0.9982\n",
      "               precision    recall  f1-score   support\n",
      "\n",
      "     business       1.00      1.00      1.00       245\n",
      "    education       1.00      1.00      1.00       274\n",
      "entertainment       1.00      1.00      1.00       178\n",
      "       sports       1.00      1.00      1.00       137\n",
      "   technology       1.00      1.00      1.00       270\n",
      "\n",
      "     accuracy                           1.00      1104\n",
      "    macro avg       1.00      1.00      1.00      1104\n",
      " weighted avg       1.00      1.00      1.00      1104\n",
      "\n"
     ]
    }
   ],
   "source": [
    "# Train and tune each model\n",
    "results = {}\n",
    "best_models = {}\n",
    "\n",
    "for name, config in param_grids.items():\n",
    "    print(f\"\\n🔍 Tuning {name}...\")\n",
    "    grid = GridSearchCV(config[\"model\"], config[\"params\"], cv=3, n_jobs=-1, scoring=\"accuracy\")\n",
    "    grid.fit(X_train_tfidf, y_train)\n",
    "\n",
    "    best_model = grid.best_estimator_\n",
    "    best_params = grid.best_params_\n",
    "\n",
    "    \n",
    "    best_model = grid.best_estimator_\n",
    "    preds = best_model.predict(X_val_tfidf)\n",
    "    acc = accuracy_score(y_val, preds)\n",
    "    \n",
    "    results[name] = acc\n",
    "    best_models[name] = best_model\n",
    "    \n",
    "    print(f\"✅ Best Params for {name}: {grid.best_params_}\")\n",
    "    print(f\"✅ Validation Accuracy: {acc:.4f}\")\n",
    "    print(classification_report(y_val, preds))\n"
   ]
  },
  {
   "cell_type": "code",
   "execution_count": 173,
   "id": "a284a631-12cd-4ec1-85dd-d655fb239191",
   "metadata": {},
   "outputs": [
    {
     "name": "stdout",
     "output_type": "stream",
     "text": [
      "\n",
      "🏆 Best Model: Logistic Regression (Accuracy = 0.9982)\n"
     ]
    }
   ],
   "source": [
    "# Pick the best-performing model\n",
    "best_model_name = max(results, key=results.get)\n",
    "final_model = best_models[best_model_name]\n",
    "\n",
    "print(f\"\\n🏆 Best Model: {best_model_name} (Accuracy = {results[best_model_name]:.4f})\")"
   ]
  },
  {
   "cell_type": "code",
   "execution_count": 176,
   "id": "29d6af4e-5cfd-4251-a7f1-8ce698e47877",
   "metadata": {},
   "outputs": [
    {
     "data": {
      "text/plain": [
       "['Logistic_Regression_best_model.pkl']"
      ]
     },
     "execution_count": 176,
     "metadata": {},
     "output_type": "execute_result"
    }
   ],
   "source": [
    "# Save vectorizer and model\n",
    "joblib.dump(vectorizer, \"tfidf_vectorizer.pkl\")\n",
    "joblib.dump(final_model, f\"{best_model_name.replace(' ', '_')}_best_model.pkl\")"
   ]
  },
  {
   "cell_type": "code",
   "execution_count": 178,
   "id": "dc50065c-321d-4c51-9a03-92752a6268d5",
   "metadata": {},
   "outputs": [
    {
     "name": "stdout",
     "output_type": "stream",
     "text": [
      "\n",
      "💾 Predictions saved to test_predictions_tuned.csv\n"
     ]
    }
   ],
   "source": [
    "# Predict on test set (optional)\n",
    "test_tfidf = vectorizer.transform(test_df[\"text\"])\n",
    "test_preds = final_model.predict(test_tfidf)\n",
    "test_df[\"Predicted_Category\"] = test_preds\n",
    "test_df.to_csv(\"test_predictions_tuned.csv\", index=False)\n",
    "print(\"\\n💾 Predictions saved to test_predictions_tuned.csv\")"
   ]
  },
  {
   "cell_type": "code",
   "execution_count": 180,
   "id": "9f001c21-cefd-4955-a363-956204ac3c64",
   "metadata": {},
   "outputs": [
    {
     "name": "stdout",
     "output_type": "stream",
     "text": [
      "Requirement already satisfied: mlflow in c:\\programdata\\anaconda3\\lib\\site-packages (2.20.0)\n",
      "Requirement already satisfied: streamlit in c:\\programdata\\anaconda3\\lib\\site-packages (1.32.0)\n",
      "Requirement already satisfied: scikit-learn in c:\\programdata\\anaconda3\\lib\\site-packages (1.6.1)\n",
      "Requirement already satisfied: pandas in c:\\programdata\\anaconda3\\lib\\site-packages (2.2.2)\n",
      "Requirement already satisfied: numpy in c:\\programdata\\anaconda3\\lib\\site-packages (1.26.4)\n",
      "Requirement already satisfied: mlflow-skinny==2.20.0 in c:\\programdata\\anaconda3\\lib\\site-packages (from mlflow) (2.20.0)\n",
      "Requirement already satisfied: Flask<4 in c:\\programdata\\anaconda3\\lib\\site-packages (from mlflow) (3.0.3)\n",
      "Requirement already satisfied: Jinja2<4,>=3.0 in c:\\programdata\\anaconda3\\lib\\site-packages (from mlflow) (3.1.4)\n",
      "Requirement already satisfied: alembic!=1.10.0,<2 in c:\\programdata\\anaconda3\\lib\\site-packages (from mlflow) (1.14.1)\n",
      "Requirement already satisfied: docker<8,>=4.0.0 in c:\\programdata\\anaconda3\\lib\\site-packages (from mlflow) (7.1.0)\n",
      "Requirement already satisfied: graphene<4 in c:\\programdata\\anaconda3\\lib\\site-packages (from mlflow) (3.4.3)\n",
      "Requirement already satisfied: markdown<4,>=3.3 in c:\\programdata\\anaconda3\\lib\\site-packages (from mlflow) (3.4.1)\n",
      "Requirement already satisfied: matplotlib<4 in c:\\users\\tsholofelo\\appdata\\roaming\\python\\python312\\site-packages (from mlflow) (3.10.6)\n",
      "Requirement already satisfied: pyarrow<19,>=4.0.0 in c:\\programdata\\anaconda3\\lib\\site-packages (from mlflow) (14.0.2)\n",
      "Requirement already satisfied: scipy<2 in c:\\users\\tsholofelo\\appdata\\roaming\\python\\python312\\site-packages (from mlflow) (1.16.2)\n",
      "Requirement already satisfied: sqlalchemy<3,>=1.4.0 in c:\\programdata\\anaconda3\\lib\\site-packages (from mlflow) (2.0.32)\n",
      "Requirement already satisfied: waitress<4 in c:\\programdata\\anaconda3\\lib\\site-packages (from mlflow) (3.0.2)\n",
      "Requirement already satisfied: cachetools<6,>=5.0.0 in c:\\programdata\\anaconda3\\lib\\site-packages (from mlflow-skinny==2.20.0->mlflow) (5.3.3)\n",
      "Requirement already satisfied: click<9,>=7.0 in c:\\programdata\\anaconda3\\lib\\site-packages (from mlflow-skinny==2.20.0->mlflow) (8.1.7)\n",
      "Requirement already satisfied: cloudpickle<4 in c:\\programdata\\anaconda3\\lib\\site-packages (from mlflow-skinny==2.20.0->mlflow) (2.2.1)\n",
      "Requirement already satisfied: databricks-sdk<1,>=0.20.0 in c:\\programdata\\anaconda3\\lib\\site-packages (from mlflow-skinny==2.20.0->mlflow) (0.41.0)\n",
      "Requirement already satisfied: gitpython<4,>=3.1.9 in c:\\programdata\\anaconda3\\lib\\site-packages (from mlflow-skinny==2.20.0->mlflow) (3.1.37)\n",
      "Requirement already satisfied: importlib_metadata!=4.7.0,<9,>=3.7.0 in c:\\programdata\\anaconda3\\lib\\site-packages (from mlflow-skinny==2.20.0->mlflow) (7.0.1)\n",
      "Requirement already satisfied: opentelemetry-api<3,>=1.9.0 in c:\\programdata\\anaconda3\\lib\\site-packages (from mlflow-skinny==2.20.0->mlflow) (1.29.0)\n",
      "Requirement already satisfied: opentelemetry-sdk<3,>=1.9.0 in c:\\programdata\\anaconda3\\lib\\site-packages (from mlflow-skinny==2.20.0->mlflow) (1.29.0)\n",
      "Requirement already satisfied: packaging<25 in c:\\programdata\\anaconda3\\lib\\site-packages (from mlflow-skinny==2.20.0->mlflow) (23.2)\n",
      "Requirement already satisfied: protobuf<6,>=3.12.0 in c:\\programdata\\anaconda3\\lib\\site-packages (from mlflow-skinny==2.20.0->mlflow) (3.20.3)\n",
      "Requirement already satisfied: pydantic<3,>=1.0 in c:\\programdata\\anaconda3\\lib\\site-packages (from mlflow-skinny==2.20.0->mlflow) (2.5.3)\n",
      "Requirement already satisfied: pyyaml<7,>=5.1 in c:\\programdata\\anaconda3\\lib\\site-packages (from mlflow-skinny==2.20.0->mlflow) (6.0.1)\n",
      "Requirement already satisfied: requests<3,>=2.17.3 in c:\\programdata\\anaconda3\\lib\\site-packages (from mlflow-skinny==2.20.0->mlflow) (2.32.2)\n",
      "Requirement already satisfied: sqlparse<1,>=0.4.0 in c:\\programdata\\anaconda3\\lib\\site-packages (from mlflow-skinny==2.20.0->mlflow) (0.5.1)\n",
      "Requirement already satisfied: typing-extensions<5,>=4.0.0 in c:\\programdata\\anaconda3\\lib\\site-packages (from mlflow-skinny==2.20.0->mlflow) (4.11.0)\n",
      "Requirement already satisfied: altair<6,>=4.0 in c:\\programdata\\anaconda3\\lib\\site-packages (from streamlit) (5.0.1)\n",
      "Requirement already satisfied: blinker<2,>=1.0.0 in c:\\programdata\\anaconda3\\lib\\site-packages (from streamlit) (1.6.2)\n",
      "Requirement already satisfied: pillow<11,>=7.1.0 in c:\\programdata\\anaconda3\\lib\\site-packages (from streamlit) (10.3.0)\n",
      "Requirement already satisfied: rich<14,>=10.14.0 in c:\\programdata\\anaconda3\\lib\\site-packages (from streamlit) (13.3.5)\n",
      "Requirement already satisfied: tenacity<9,>=8.1.0 in c:\\programdata\\anaconda3\\lib\\site-packages (from streamlit) (8.2.2)\n",
      "Requirement already satisfied: toml<2,>=0.10.1 in c:\\programdata\\anaconda3\\lib\\site-packages (from streamlit) (0.10.2)\n",
      "Requirement already satisfied: pydeck<1,>=0.8.0b4 in c:\\programdata\\anaconda3\\lib\\site-packages (from streamlit) (0.8.0)\n",
      "Requirement already satisfied: tornado<7,>=6.0.3 in c:\\programdata\\anaconda3\\lib\\site-packages (from streamlit) (6.4.1)\n",
      "Requirement already satisfied: watchdog>=2.1.5 in c:\\programdata\\anaconda3\\lib\\site-packages (from streamlit) (4.0.1)\n",
      "Requirement already satisfied: joblib>=1.2.0 in c:\\programdata\\anaconda3\\lib\\site-packages (from scikit-learn) (1.4.2)\n",
      "Requirement already satisfied: threadpoolctl>=3.1.0 in c:\\programdata\\anaconda3\\lib\\site-packages (from scikit-learn) (3.5.0)\n",
      "Requirement already satisfied: python-dateutil>=2.8.2 in c:\\programdata\\anaconda3\\lib\\site-packages (from pandas) (2.9.0.post0)\n",
      "Requirement already satisfied: pytz>=2020.1 in c:\\programdata\\anaconda3\\lib\\site-packages (from pandas) (2024.1)\n",
      "Requirement already satisfied: tzdata>=2022.7 in c:\\programdata\\anaconda3\\lib\\site-packages (from pandas) (2023.3)\n",
      "Requirement already satisfied: Mako in c:\\programdata\\anaconda3\\lib\\site-packages (from alembic!=1.10.0,<2->mlflow) (1.3.8)\n",
      "Requirement already satisfied: jsonschema>=3.0 in c:\\programdata\\anaconda3\\lib\\site-packages (from altair<6,>=4.0->streamlit) (4.19.2)\n",
      "Requirement already satisfied: toolz in c:\\programdata\\anaconda3\\lib\\site-packages (from altair<6,>=4.0->streamlit) (0.12.0)\n",
      "Requirement already satisfied: colorama in c:\\programdata\\anaconda3\\lib\\site-packages (from click<9,>=7.0->mlflow-skinny==2.20.0->mlflow) (0.4.6)\n",
      "Requirement already satisfied: pywin32>=304 in c:\\programdata\\anaconda3\\lib\\site-packages (from docker<8,>=4.0.0->mlflow) (305.1)\n",
      "Requirement already satisfied: urllib3>=1.26.0 in c:\\programdata\\anaconda3\\lib\\site-packages (from docker<8,>=4.0.0->mlflow) (2.2.2)\n",
      "Requirement already satisfied: Werkzeug>=3.0.0 in c:\\programdata\\anaconda3\\lib\\site-packages (from Flask<4->mlflow) (3.0.3)\n",
      "Requirement already satisfied: itsdangerous>=2.1.2 in c:\\programdata\\anaconda3\\lib\\site-packages (from Flask<4->mlflow) (2.2.0)\n",
      "Requirement already satisfied: gitdb<5,>=4.0.1 in c:\\programdata\\anaconda3\\lib\\site-packages (from gitpython<4,>=3.1.9->mlflow-skinny==2.20.0->mlflow) (4.0.7)\n",
      "Requirement already satisfied: graphql-core<3.3,>=3.1 in c:\\programdata\\anaconda3\\lib\\site-packages (from graphene<4->mlflow) (3.2.6)\n",
      "Requirement already satisfied: graphql-relay<3.3,>=3.1 in c:\\programdata\\anaconda3\\lib\\site-packages (from graphene<4->mlflow) (3.2.0)\n",
      "Requirement already satisfied: MarkupSafe>=2.0 in c:\\programdata\\anaconda3\\lib\\site-packages (from Jinja2<4,>=3.0->mlflow) (2.1.3)\n",
      "Requirement already satisfied: contourpy>=1.0.1 in c:\\users\\tsholofelo\\appdata\\roaming\\python\\python312\\site-packages (from matplotlib<4->mlflow) (1.3.3)\n",
      "Requirement already satisfied: cycler>=0.10 in c:\\users\\tsholofelo\\appdata\\roaming\\python\\python312\\site-packages (from matplotlib<4->mlflow) (0.12.1)\n",
      "Requirement already satisfied: fonttools>=4.22.0 in c:\\users\\tsholofelo\\appdata\\roaming\\python\\python312\\site-packages (from matplotlib<4->mlflow) (4.60.0)\n",
      "Requirement already satisfied: kiwisolver>=1.3.1 in c:\\users\\tsholofelo\\appdata\\roaming\\python\\python312\\site-packages (from matplotlib<4->mlflow) (1.4.9)\n",
      "Requirement already satisfied: pyparsing>=2.3.1 in c:\\users\\tsholofelo\\appdata\\roaming\\python\\python312\\site-packages (from matplotlib<4->mlflow) (3.2.5)\n",
      "Requirement already satisfied: six>=1.5 in c:\\programdata\\anaconda3\\lib\\site-packages (from python-dateutil>=2.8.2->pandas) (1.16.0)\n",
      "Requirement already satisfied: charset-normalizer<4,>=2 in c:\\programdata\\anaconda3\\lib\\site-packages (from requests<3,>=2.17.3->mlflow-skinny==2.20.0->mlflow) (2.0.4)\n",
      "Requirement already satisfied: idna<4,>=2.5 in c:\\programdata\\anaconda3\\lib\\site-packages (from requests<3,>=2.17.3->mlflow-skinny==2.20.0->mlflow) (3.7)\n",
      "Requirement already satisfied: certifi>=2017.4.17 in c:\\programdata\\anaconda3\\lib\\site-packages (from requests<3,>=2.17.3->mlflow-skinny==2.20.0->mlflow) (2024.7.4)\n",
      "Requirement already satisfied: markdown-it-py<3.0.0,>=2.2.0 in c:\\programdata\\anaconda3\\lib\\site-packages (from rich<14,>=10.14.0->streamlit) (2.2.0)\n",
      "Requirement already satisfied: pygments<3.0.0,>=2.13.0 in c:\\programdata\\anaconda3\\lib\\site-packages (from rich<14,>=10.14.0->streamlit) (2.15.1)\n",
      "Requirement already satisfied: greenlet!=0.4.17 in c:\\programdata\\anaconda3\\lib\\site-packages (from sqlalchemy<3,>=1.4.0->mlflow) (3.0.1)\n",
      "Requirement already satisfied: google-auth~=2.0 in c:\\programdata\\anaconda3\\lib\\site-packages (from databricks-sdk<1,>=0.20.0->mlflow-skinny==2.20.0->mlflow) (2.38.0)\n",
      "Requirement already satisfied: smmap<5,>=3.0.1 in c:\\programdata\\anaconda3\\lib\\site-packages (from gitdb<5,>=4.0.1->gitpython<4,>=3.1.9->mlflow-skinny==2.20.0->mlflow) (4.0.0)\n",
      "Requirement already satisfied: zipp>=0.5 in c:\\programdata\\anaconda3\\lib\\site-packages (from importlib_metadata!=4.7.0,<9,>=3.7.0->mlflow-skinny==2.20.0->mlflow) (3.17.0)\n",
      "Requirement already satisfied: attrs>=22.2.0 in c:\\programdata\\anaconda3\\lib\\site-packages (from jsonschema>=3.0->altair<6,>=4.0->streamlit) (23.1.0)\n",
      "Requirement already satisfied: jsonschema-specifications>=2023.03.6 in c:\\programdata\\anaconda3\\lib\\site-packages (from jsonschema>=3.0->altair<6,>=4.0->streamlit) (2023.7.1)\n",
      "Requirement already satisfied: referencing>=0.28.4 in c:\\programdata\\anaconda3\\lib\\site-packages (from jsonschema>=3.0->altair<6,>=4.0->streamlit) (0.30.2)\n",
      "Requirement already satisfied: rpds-py>=0.7.1 in c:\\programdata\\anaconda3\\lib\\site-packages (from jsonschema>=3.0->altair<6,>=4.0->streamlit) (0.10.6)\n",
      "Requirement already satisfied: mdurl~=0.1 in c:\\programdata\\anaconda3\\lib\\site-packages (from markdown-it-py<3.0.0,>=2.2.0->rich<14,>=10.14.0->streamlit) (0.1.0)\n",
      "Requirement already satisfied: deprecated>=1.2.6 in c:\\programdata\\anaconda3\\lib\\site-packages (from opentelemetry-api<3,>=1.9.0->mlflow-skinny==2.20.0->mlflow) (1.2.18)\n",
      "Requirement already satisfied: opentelemetry-semantic-conventions==0.50b0 in c:\\programdata\\anaconda3\\lib\\site-packages (from opentelemetry-sdk<3,>=1.9.0->mlflow-skinny==2.20.0->mlflow) (0.50b0)\n",
      "Requirement already satisfied: annotated-types>=0.4.0 in c:\\programdata\\anaconda3\\lib\\site-packages (from pydantic<3,>=1.0->mlflow-skinny==2.20.0->mlflow) (0.6.0)\n",
      "Requirement already satisfied: pydantic-core==2.14.6 in c:\\programdata\\anaconda3\\lib\\site-packages (from pydantic<3,>=1.0->mlflow-skinny==2.20.0->mlflow) (2.14.6)\n",
      "Requirement already satisfied: wrapt<2,>=1.10 in c:\\programdata\\anaconda3\\lib\\site-packages (from deprecated>=1.2.6->opentelemetry-api<3,>=1.9.0->mlflow-skinny==2.20.0->mlflow) (1.14.1)\n",
      "Requirement already satisfied: pyasn1-modules>=0.2.1 in c:\\programdata\\anaconda3\\lib\\site-packages (from google-auth~=2.0->databricks-sdk<1,>=0.20.0->mlflow-skinny==2.20.0->mlflow) (0.2.8)\n",
      "Requirement already satisfied: rsa<5,>=3.1.4 in c:\\programdata\\anaconda3\\lib\\site-packages (from google-auth~=2.0->databricks-sdk<1,>=0.20.0->mlflow-skinny==2.20.0->mlflow) (4.9)\n",
      "Requirement already satisfied: pyasn1<0.5.0,>=0.4.6 in c:\\programdata\\anaconda3\\lib\\site-packages (from pyasn1-modules>=0.2.1->google-auth~=2.0->databricks-sdk<1,>=0.20.0->mlflow-skinny==2.20.0->mlflow) (0.4.8)\n"
     ]
    }
   ],
   "source": [
    "!pip install mlflow streamlit scikit-learn pandas numpy"
   ]
  },
  {
   "cell_type": "code",
   "execution_count": 182,
   "id": "e25ecf41-a8ad-4faf-9929-06320a2190f9",
   "metadata": {},
   "outputs": [
    {
     "name": "stderr",
     "output_type": "stream",
     "text": [
      "2025/10/23 23:40:42 WARNING mlflow.models.model: Model logged without a signature and input example. Please set `input_example` parameter when logging the model to auto infer the model signature.\n"
     ]
    },
    {
     "name": "stdout",
     "output_type": "stream",
     "text": [
      "✅ Model logged with accuracy: 0.9810\n"
     ]
    }
   ],
   "source": [
    "import mlflow\n",
    "import mlflow.sklearn\n",
    "from sklearn.metrics import accuracy_score\n",
    "\n",
    "# Start an MLflow experiment\n",
    "mlflow.set_experiment(\"text_classification_experiment\")\n",
    "\n",
    "with mlflow.start_run(run_name=\"RandomForest_tuned\"):\n",
    "    # Log parameters\n",
    "    mlflow.log_params(best_params)\n",
    "\n",
    "    # Train and evaluate\n",
    "    y_pred = best_model.predict(X_test_tfidf)\n",
    "    acc = accuracy_score(y_test, y_pred)\n",
    "\n",
    "    # Log metric\n",
    "    mlflow.log_metric(\"accuracy\", acc)\n",
    "\n",
    "    # Log model\n",
    "    mlflow.sklearn.log_model(best_model, \"model\")\n",
    "\n",
    "    print(f\"✅ Model logged with accuracy: {acc:.4f}\")"
   ]
  },
  {
   "cell_type": "code",
   "execution_count": 194,
   "id": "74b9718d-4e2b-4b4d-b59c-4cbb1675b069",
   "metadata": {},
   "outputs": [
    {
     "data": {
      "text/plain": [
       "['vectorizer.pkl']"
      ]
     },
     "execution_count": 194,
     "metadata": {},
     "output_type": "execute_result"
    }
   ],
   "source": [
    "import joblib\n",
    "\n",
    "joblib.dump(best_model, \"best_model.pkl\")\n",
    "joblib.dump(vectorizer, \"vectorizer.pkl\")"
   ]
  },
  {
   "cell_type": "code",
   "execution_count": null,
   "id": "87d73f23-2b9f-4bdc-92e6-93e7670cd6af",
   "metadata": {},
   "outputs": [],
   "source": []
  }
 ],
 "metadata": {
  "kernelspec": {
   "display_name": "Python 3 (ipykernel)",
   "language": "python",
   "name": "python3"
  },
  "language_info": {
   "codemirror_mode": {
    "name": "ipython",
    "version": 3
   },
   "file_extension": ".py",
   "mimetype": "text/x-python",
   "name": "python",
   "nbconvert_exporter": "python",
   "pygments_lexer": "ipython3",
   "version": "3.12.4"
  }
 },
 "nbformat": 4,
 "nbformat_minor": 5
}
